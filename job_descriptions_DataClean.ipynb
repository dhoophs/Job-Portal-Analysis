{
 "cells": [
  {
   "cell_type": "code",
   "execution_count": 1,
   "id": "6b97e644",
   "metadata": {},
   "outputs": [],
   "source": [
    "import numpy as np\n",
    "import pandas as pd"
   ]
  },
  {
   "cell_type": "code",
   "execution_count": 2,
   "id": "e4abec59",
   "metadata": {},
   "outputs": [],
   "source": [
    "df=pd.read_csv(\"job_descriptions.csv\")"
   ]
  },
  {
   "cell_type": "code",
   "execution_count": 3,
   "id": "0ac011f8",
   "metadata": {},
   "outputs": [
    {
     "data": {
      "text/plain": [
       "Index(['Job Id', 'Experience', 'Qualifications', 'Salary Range', 'location',\n",
       "       'Country', 'latitude', 'longitude', 'Work Type', 'Company Size',\n",
       "       'Job Posting Date', 'Preference', 'Contact Person', 'Contact',\n",
       "       'Job Title', 'Role', 'Job Portal', 'Job Description', 'Benefits',\n",
       "       'skills', 'Responsibilities', 'Company', 'Company Profile'],\n",
       "      dtype='object')"
      ]
     },
     "execution_count": 3,
     "metadata": {},
     "output_type": "execute_result"
    }
   ],
   "source": [
    "df.columns"
   ]
  },
  {
   "cell_type": "code",
   "execution_count": 4,
   "id": "1a0f4664",
   "metadata": {},
   "outputs": [],
   "source": [
    "df.rename(columns={'Job Id':'Job_Id','Salary Range':'Salary_range','Work Type':'Work_Type','Company Size':'Company_Size',\n",
    "                  'Job Posting Date':'Job_Posting_Date','Contact Person':'Contact_Person','Job Title':'Job_Title','Job Description':'Job_Description','Company Profile':'Company_Profile'},inplace=True)"
   ]
  },
  {
   "cell_type": "code",
   "execution_count": 5,
   "id": "75b86966",
   "metadata": {},
   "outputs": [
    {
     "data": {
      "text/plain": [
       "Job_Id                 0\n",
       "Experience             0\n",
       "Qualifications         0\n",
       "Salary_range           0\n",
       "location               0\n",
       "Country                0\n",
       "latitude               0\n",
       "longitude              0\n",
       "Work_Type              0\n",
       "Company_Size           0\n",
       "Job_Posting_Date       0\n",
       "Preference             0\n",
       "Contact_Person         0\n",
       "Contact                0\n",
       "Job_Title              0\n",
       "Role                   0\n",
       "Job Portal             0\n",
       "Job_Description        0\n",
       "Benefits               0\n",
       "skills                 0\n",
       "Responsibilities       0\n",
       "Company                0\n",
       "Company_Profile     5478\n",
       "dtype: int64"
      ]
     },
     "execution_count": 5,
     "metadata": {},
     "output_type": "execute_result"
    }
   ],
   "source": [
    "df.isnull().sum()"
   ]
  },
  {
   "cell_type": "code",
   "execution_count": 6,
   "id": "e6034639",
   "metadata": {},
   "outputs": [],
   "source": [
    "df.dropna(inplace=True)"
   ]
  },
  {
   "cell_type": "code",
   "execution_count": 7,
   "id": "ec14ec47",
   "metadata": {},
   "outputs": [],
   "source": [
    "df.drop_duplicates(inplace=True)"
   ]
  },
  {
   "cell_type": "code",
   "execution_count": 8,
   "id": "42a7d363",
   "metadata": {},
   "outputs": [
    {
     "data": {
      "text/plain": [
       "Index(['Job_Id', 'Experience', 'Qualifications', 'Salary_range', 'location',\n",
       "       'Country', 'latitude', 'longitude', 'Work_Type', 'Company_Size',\n",
       "       'Job_Posting_Date', 'Preference', 'Contact_Person', 'Contact',\n",
       "       'Job_Title', 'Role', 'Job Portal', 'Job_Description', 'Benefits',\n",
       "       'skills', 'Responsibilities', 'Company', 'Company_Profile'],\n",
       "      dtype='object')"
      ]
     },
     "execution_count": 8,
     "metadata": {},
     "output_type": "execute_result"
    }
   ],
   "source": [
    "df.columns"
   ]
  },
  {
   "cell_type": "code",
   "execution_count": 9,
   "id": "4a02c76b",
   "metadata": {},
   "outputs": [
    {
     "name": "stdout",
     "output_type": "stream",
     "text": [
      "0     26801\n",
      "1    100340\n",
      "2     84525\n",
      "3    129896\n",
      "4     53944\n",
      "5     23196\n",
      "6     26119\n",
      "7     40558\n",
      "8    105343\n",
      "9    102069\n",
      "Name: Company_Size, dtype: int64\n"
     ]
    }
   ],
   "source": [
    "print(df.loc[0:9, 'Company_Size'])"
   ]
  },
  {
   "cell_type": "code",
   "execution_count": 10,
   "id": "a1452ba1",
   "metadata": {},
   "outputs": [],
   "source": [
    "df = df[df['Company_Size'] <= 50000]"
   ]
  },
  {
   "cell_type": "code",
   "execution_count": 11,
   "id": "2cdb6980",
   "metadata": {},
   "outputs": [],
   "source": [
    "df.reset_index(drop=True, inplace=True)"
   ]
  },
  {
   "cell_type": "code",
   "execution_count": 12,
   "id": "a015c87d",
   "metadata": {},
   "outputs": [
    {
     "name": "stdout",
     "output_type": "stream",
     "text": [
      "0     26801\n",
      "1     23196\n",
      "2     26119\n",
      "3     40558\n",
      "4     49100\n",
      "5     29318\n",
      "6     48199\n",
      "7     40723\n",
      "8     28043\n",
      "9     38044\n",
      "10    27725\n",
      "11    35273\n",
      "12    29884\n",
      "13    47107\n",
      "14    43665\n",
      "15    43166\n",
      "16    21827\n",
      "17    25713\n",
      "18    14771\n",
      "19    48875\n",
      "20    18334\n",
      "Name: Company_Size, dtype: int64\n"
     ]
    }
   ],
   "source": [
    "print(df.loc[0:20, 'Company_Size'])"
   ]
  },
  {
   "cell_type": "code",
   "execution_count": 38,
   "id": "4f98c4da",
   "metadata": {},
   "outputs": [
    {
     "data": {
      "text/html": [
       "<div>\n",
       "<style scoped>\n",
       "    .dataframe tbody tr th:only-of-type {\n",
       "        vertical-align: middle;\n",
       "    }\n",
       "\n",
       "    .dataframe tbody tr th {\n",
       "        vertical-align: top;\n",
       "    }\n",
       "\n",
       "    .dataframe thead th {\n",
       "        text-align: right;\n",
       "    }\n",
       "</style>\n",
       "<table border=\"1\" class=\"dataframe\">\n",
       "  <thead>\n",
       "    <tr style=\"text-align: right;\">\n",
       "      <th></th>\n",
       "      <th>Job_Id</th>\n",
       "      <th>Experience</th>\n",
       "      <th>Qualifications</th>\n",
       "      <th>Salary_range</th>\n",
       "      <th>location</th>\n",
       "      <th>Country</th>\n",
       "      <th>latitude</th>\n",
       "      <th>longitude</th>\n",
       "      <th>Work_Type</th>\n",
       "      <th>Company_Size</th>\n",
       "      <th>...</th>\n",
       "      <th>Contact</th>\n",
       "      <th>Job_Title</th>\n",
       "      <th>Role</th>\n",
       "      <th>Job Portal</th>\n",
       "      <th>Job_Description</th>\n",
       "      <th>Benefits</th>\n",
       "      <th>skills</th>\n",
       "      <th>Responsibilities</th>\n",
       "      <th>Company</th>\n",
       "      <th>Company_Profile</th>\n",
       "    </tr>\n",
       "  </thead>\n",
       "  <tbody>\n",
       "    <tr>\n",
       "      <th>0</th>\n",
       "      <td>1089843540111562</td>\n",
       "      <td>5 to 15 Years</td>\n",
       "      <td>M.Tech</td>\n",
       "      <td>$59K-$99K</td>\n",
       "      <td>Douglas</td>\n",
       "      <td>Isle of Man</td>\n",
       "      <td>54.2361</td>\n",
       "      <td>-4.5481</td>\n",
       "      <td>Intern</td>\n",
       "      <td>26801</td>\n",
       "      <td>...</td>\n",
       "      <td>001-381-930-7517x737</td>\n",
       "      <td>Digital Marketing Specialist</td>\n",
       "      <td>Social Media Manager</td>\n",
       "      <td>Snagajob</td>\n",
       "      <td>Social Media Managers oversee an organizations...</td>\n",
       "      <td>{'Flexible Spending Accounts (FSAs), Relocatio...</td>\n",
       "      <td>Social media platforms (e.g., Facebook, Twitte...</td>\n",
       "      <td>Manage and grow social media accounts, create ...</td>\n",
       "      <td>Icahn Enterprises</td>\n",
       "      <td>{\"Sector\":\"Diversified\",\"Industry\":\"Diversifie...</td>\n",
       "    </tr>\n",
       "    <tr>\n",
       "      <th>1</th>\n",
       "      <td>116831420231957</td>\n",
       "      <td>4 to 12 Years</td>\n",
       "      <td>MCA</td>\n",
       "      <td>$59K-$93K</td>\n",
       "      <td>Brussels</td>\n",
       "      <td>Belgium</td>\n",
       "      <td>50.5039</td>\n",
       "      <td>4.4699</td>\n",
       "      <td>Full-Time</td>\n",
       "      <td>23196</td>\n",
       "      <td>...</td>\n",
       "      <td>(973)791-5355x52199</td>\n",
       "      <td>Software Tester</td>\n",
       "      <td>Quality Assurance Analyst</td>\n",
       "      <td>Snagajob</td>\n",
       "      <td>A Quality Assurance Analyst tests software and...</td>\n",
       "      <td>{'Life and Disability Insurance, Stock Options...</td>\n",
       "      <td>Quality assurance processes Testing methodolog...</td>\n",
       "      <td>Test software applications and systems to iden...</td>\n",
       "      <td>Adani Ports and Special Economic Zone</td>\n",
       "      <td>{\"Sector\":\"Infrastructure\",\"Industry\":\"Ports a...</td>\n",
       "    </tr>\n",
       "    <tr>\n",
       "      <th>2</th>\n",
       "      <td>1292168246729889</td>\n",
       "      <td>3 to 15 Years</td>\n",
       "      <td>PhD</td>\n",
       "      <td>$63K-$103K</td>\n",
       "      <td>George Town</td>\n",
       "      <td>Cayman Islands</td>\n",
       "      <td>19.3133</td>\n",
       "      <td>-81.2546</td>\n",
       "      <td>Temporary</td>\n",
       "      <td>26119</td>\n",
       "      <td>...</td>\n",
       "      <td>001-268-510-4362x789</td>\n",
       "      <td>Teacher</td>\n",
       "      <td>Classroom Teacher</td>\n",
       "      <td>FlexJobs</td>\n",
       "      <td>A Classroom Teacher educates students in a spe...</td>\n",
       "      <td>{'Flexible Spending Accounts (FSAs), Relocatio...</td>\n",
       "      <td>Teaching pedagogy Classroom management Curricu...</td>\n",
       "      <td>Plan and deliver engaging lessons, adapting te...</td>\n",
       "      <td>FedEx</td>\n",
       "      <td>{\"Sector\":\"Logistics\",\"Industry\":\"Mail, Packag...</td>\n",
       "    </tr>\n",
       "    <tr>\n",
       "      <th>3</th>\n",
       "      <td>1498778686197107</td>\n",
       "      <td>2 to 8 Years</td>\n",
       "      <td>M.Com</td>\n",
       "      <td>$65K-$102K</td>\n",
       "      <td>SÃ£o TomÃ©</td>\n",
       "      <td>Sao Tome and Principe</td>\n",
       "      <td>0.1864</td>\n",
       "      <td>6.6131</td>\n",
       "      <td>Contract</td>\n",
       "      <td>40558</td>\n",
       "      <td>...</td>\n",
       "      <td>667.202.6824x15893</td>\n",
       "      <td>UX/UI Designer</td>\n",
       "      <td>User Interface Designer</td>\n",
       "      <td>Indeed</td>\n",
       "      <td>User Interface Designers focus on the visual a...</td>\n",
       "      <td>{'Employee Assistance Programs (EAP), Tuition ...</td>\n",
       "      <td>UI design principles and best practices Graphi...</td>\n",
       "      <td>Create visually appealing user interfaces (UI)...</td>\n",
       "      <td>Ryder System</td>\n",
       "      <td>{\"Sector\":\"Transportation\",\"Industry\":\"Transpo...</td>\n",
       "    </tr>\n",
       "    <tr>\n",
       "      <th>4</th>\n",
       "      <td>2823887164112482</td>\n",
       "      <td>5 to 14 Years</td>\n",
       "      <td>M.Tech</td>\n",
       "      <td>$60K-$83K</td>\n",
       "      <td>San Marino</td>\n",
       "      <td>San Marino</td>\n",
       "      <td>43.9424</td>\n",
       "      <td>12.4578</td>\n",
       "      <td>Part-Time</td>\n",
       "      <td>49100</td>\n",
       "      <td>...</td>\n",
       "      <td>(434)560-6482</td>\n",
       "      <td>Social Worker</td>\n",
       "      <td>School Social Worker</td>\n",
       "      <td>Glassdoor</td>\n",
       "      <td>Support students social and emotional well-bei...</td>\n",
       "      <td>{'Health Insurance, Retirement Plans, Flexible...</td>\n",
       "      <td>School social work principles Student assessme...</td>\n",
       "      <td>Collaborate with schools to support students a...</td>\n",
       "      <td>Deere</td>\n",
       "      <td>{\"Sector\":\"Industrial\",\"Industry\":\"Constructio...</td>\n",
       "    </tr>\n",
       "  </tbody>\n",
       "</table>\n",
       "<p>5 rows × 23 columns</p>\n",
       "</div>"
      ],
      "text/plain": [
       "             Job_Id     Experience Qualifications Salary_range     location  \\\n",
       "0  1089843540111562  5 to 15 Years         M.Tech    $59K-$99K      Douglas   \n",
       "1   116831420231957  4 to 12 Years            MCA    $59K-$93K     Brussels   \n",
       "2  1292168246729889  3 to 15 Years            PhD   $63K-$103K  George Town   \n",
       "3  1498778686197107   2 to 8 Years          M.Com   $65K-$102K   SÃ£o TomÃ©   \n",
       "4  2823887164112482  5 to 14 Years         M.Tech    $60K-$83K   San Marino   \n",
       "\n",
       "                 Country  latitude  longitude  Work_Type  Company_Size  ...  \\\n",
       "0            Isle of Man   54.2361    -4.5481     Intern         26801  ...   \n",
       "1                Belgium   50.5039     4.4699  Full-Time         23196  ...   \n",
       "2         Cayman Islands   19.3133   -81.2546  Temporary         26119  ...   \n",
       "3  Sao Tome and Principe    0.1864     6.6131   Contract         40558  ...   \n",
       "4             San Marino   43.9424    12.4578  Part-Time         49100  ...   \n",
       "\n",
       "                Contact                     Job_Title  \\\n",
       "0  001-381-930-7517x737  Digital Marketing Specialist   \n",
       "1   (973)791-5355x52199               Software Tester   \n",
       "2  001-268-510-4362x789                       Teacher   \n",
       "3    667.202.6824x15893                UX/UI Designer   \n",
       "4         (434)560-6482                 Social Worker   \n",
       "\n",
       "                        Role Job Portal  \\\n",
       "0       Social Media Manager   Snagajob   \n",
       "1  Quality Assurance Analyst   Snagajob   \n",
       "2          Classroom Teacher   FlexJobs   \n",
       "3    User Interface Designer     Indeed   \n",
       "4       School Social Worker  Glassdoor   \n",
       "\n",
       "                                     Job_Description  \\\n",
       "0  Social Media Managers oversee an organizations...   \n",
       "1  A Quality Assurance Analyst tests software and...   \n",
       "2  A Classroom Teacher educates students in a spe...   \n",
       "3  User Interface Designers focus on the visual a...   \n",
       "4  Support students social and emotional well-bei...   \n",
       "\n",
       "                                            Benefits  \\\n",
       "0  {'Flexible Spending Accounts (FSAs), Relocatio...   \n",
       "1  {'Life and Disability Insurance, Stock Options...   \n",
       "2  {'Flexible Spending Accounts (FSAs), Relocatio...   \n",
       "3  {'Employee Assistance Programs (EAP), Tuition ...   \n",
       "4  {'Health Insurance, Retirement Plans, Flexible...   \n",
       "\n",
       "                                              skills  \\\n",
       "0  Social media platforms (e.g., Facebook, Twitte...   \n",
       "1  Quality assurance processes Testing methodolog...   \n",
       "2  Teaching pedagogy Classroom management Curricu...   \n",
       "3  UI design principles and best practices Graphi...   \n",
       "4  School social work principles Student assessme...   \n",
       "\n",
       "                                    Responsibilities  \\\n",
       "0  Manage and grow social media accounts, create ...   \n",
       "1  Test software applications and systems to iden...   \n",
       "2  Plan and deliver engaging lessons, adapting te...   \n",
       "3  Create visually appealing user interfaces (UI)...   \n",
       "4  Collaborate with schools to support students a...   \n",
       "\n",
       "                                 Company  \\\n",
       "0                      Icahn Enterprises   \n",
       "1  Adani Ports and Special Economic Zone   \n",
       "2                                  FedEx   \n",
       "3                           Ryder System   \n",
       "4                                  Deere   \n",
       "\n",
       "                                     Company_Profile  \n",
       "0  {\"Sector\":\"Diversified\",\"Industry\":\"Diversifie...  \n",
       "1  {\"Sector\":\"Infrastructure\",\"Industry\":\"Ports a...  \n",
       "2  {\"Sector\":\"Logistics\",\"Industry\":\"Mail, Packag...  \n",
       "3  {\"Sector\":\"Transportation\",\"Industry\":\"Transpo...  \n",
       "4  {\"Sector\":\"Industrial\",\"Industry\":\"Constructio...  \n",
       "\n",
       "[5 rows x 23 columns]"
      ]
     },
     "execution_count": 38,
     "metadata": {},
     "output_type": "execute_result"
    }
   ],
   "source": [
    "df.head()"
   ]
  },
  {
   "cell_type": "code",
   "execution_count": 17,
   "id": "56cba75c",
   "metadata": {},
   "outputs": [],
   "source": [
    "df.to_csv('task1_dataset.csv', index=False)"
   ]
  },
  {
   "cell_type": "code",
   "execution_count": 39,
   "id": "11cd2265",
   "metadata": {},
   "outputs": [
    {
     "name": "stdout",
     "output_type": "stream",
     "text": [
      "0    5 to 15 Years\n",
      "1    4 to 12 Years\n",
      "2    3 to 15 Years\n",
      "3     2 to 8 Years\n",
      "4    5 to 14 Years\n",
      "5    0 to 11 Years\n",
      "6     5 to 9 Years\n",
      "7     1 to 8 Years\n",
      "8     3 to 9 Years\n",
      "9    1 to 13 Years\n",
      "Name: Experience, dtype: object\n"
     ]
    }
   ],
   "source": [
    "print(df.loc[0:9, 'Experience'])"
   ]
  },
  {
   "cell_type": "code",
   "execution_count": null,
   "id": "229cf8f6",
   "metadata": {},
   "outputs": [],
   "source": [
    "data = {'Experience': [\"0 to 8 Years\",\"0 to 9 Years\",\"0 to 10 Years\",\"0 to 11 Years\",\"0 to 12 Years\",\"0 to 13 Years\",\n",
    "                       \"0 to 14 Years\",\"0 to 15 Years\",\"1 to 8 Years\",\"1 to 9 Years\",\"1 to 10 Years\",\"1 to 11 Years\",\n",
    "                      \"1 to 12 Years\",\"1 to 13 Years\",\"1 to 14 Years\",\"1 to 15 Years\",\"2 to 8 Years\",\"2 to 9 Years\",\n",
    "                      \"2 to 10 Years\",\"2 to 11 Years\",\"2 to 12 Years\"]}"
   ]
  }
 ],
 "metadata": {
  "kernelspec": {
   "display_name": "Python 3 (ipykernel)",
   "language": "python",
   "name": "python3"
  },
  "language_info": {
   "codemirror_mode": {
    "name": "ipython",
    "version": 3
   },
   "file_extension": ".py",
   "mimetype": "text/x-python",
   "name": "python",
   "nbconvert_exporter": "python",
   "pygments_lexer": "ipython3",
   "version": "3.11.4"
  }
 },
 "nbformat": 4,
 "nbformat_minor": 5
}
